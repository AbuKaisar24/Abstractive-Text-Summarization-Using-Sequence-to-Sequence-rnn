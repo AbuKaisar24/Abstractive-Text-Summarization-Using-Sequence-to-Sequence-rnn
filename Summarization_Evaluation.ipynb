{
  "nbformat": 4,
  "nbformat_minor": 0,
  "metadata": {
    "colab": {
      "provenance": [],
      "authorship_tag": "ABX9TyNfbqV7HYzvdFPqKx8+zJJf",
      "include_colab_link": true
    },
    "kernelspec": {
      "name": "python3",
      "display_name": "Python 3"
    },
    "language_info": {
      "name": "python"
    }
  },
  "cells": [
    {
      "cell_type": "markdown",
      "metadata": {
        "id": "view-in-github",
        "colab_type": "text"
      },
      "source": [
        "<a href=\"https://colab.research.google.com/github/kaisarmasum/Abstractive-Text-Summarization-Using-Sequence-to-Sequence-Rnn/blob/master/Summarization_Evaluation.ipynb\" target=\"_parent\"><img src=\"https://colab.research.google.com/assets/colab-badge.svg\" alt=\"Open In Colab\"/></a>"
      ]
    },
    {
      "cell_type": "code",
      "execution_count": 1,
      "metadata": {
        "id": "pgI3eBLIFIGt"
      },
      "outputs": [],
      "source": [
        "import nltk\n",
        "from nltk.translate.bleu_score import sentence_bleu"
      ]
    },
    {
      "cell_type": "markdown",
      "source": [
        "# BLEU "
      ],
      "metadata": {
        "id": "q-FvRJO3IK2t"
      }
    },
    {
      "cell_type": "code",
      "source": [
        "reference = [\n",
        "    'একদিন নিজের একটা পরিচয় হবে'.split(),\n",
        "]\n",
        "print(reference)"
      ],
      "metadata": {
        "colab": {
          "base_uri": "https://localhost:8080/"
        },
        "id": "8oKrmlRYFRoU",
        "outputId": "85486daa-ee85-4d1d-961b-f5c86dbcd131"
      },
      "execution_count": 2,
      "outputs": [
        {
          "output_type": "stream",
          "name": "stdout",
          "text": [
            "[['একদিন', 'নিজের', 'একটা', 'পরিচয়', 'হবে']]\n"
          ]
        }
      ]
    },
    {
      "cell_type": "code",
      "source": [
        "candidate = 'একদিন নিজের একটা পরিচয় হবে একটা একটা'.split()\n",
        "print('BLEU score -> {}'.format(sentence_bleu(reference, candidate)))"
      ],
      "metadata": {
        "colab": {
          "base_uri": "https://localhost:8080/"
        },
        "id": "ouMr8DssFns5",
        "outputId": "da2c73b3-5f36-4120-a2a8-cf40ae7ab389"
      },
      "execution_count": 3,
      "outputs": [
        {
          "output_type": "stream",
          "name": "stdout",
          "text": [
            "BLEU score -> 0.6147881529512643\n"
          ]
        }
      ]
    },
    {
      "cell_type": "code",
      "source": [
        "print('BELU-1: %f' % sentence_bleu(reference, candidate, weights=(1, 0, 0, 0)))\n",
        "print('BLEU-2: %f' % sentence_bleu(reference, candidate, weights=(0, 1, 0, 0)))\n",
        "print('BELU-3: %f' % sentence_bleu(reference, candidate, weights=(0, 0, 1, 0)))\n",
        "print('BELU-4: %f' % sentence_bleu(reference, candidate, weights=(0, 0, 0, 1)))\n",
        "print(\"cumulative 4-gram BLEU: %f\" % sentence_bleu(reference, candidate, weights=(0.25, 0.25, 0.25, 0.25)))"
      ],
      "metadata": {
        "colab": {
          "base_uri": "https://localhost:8080/"
        },
        "id": "I_0q87TNFyUh",
        "outputId": "081b9302-2740-44b5-d488-205bd48da301"
      },
      "execution_count": 7,
      "outputs": [
        {
          "output_type": "stream",
          "name": "stdout",
          "text": [
            "BELU-1: 0.714286\n",
            "BLEU-2: 0.666667\n",
            "BELU-3: 0.600000\n",
            "BELU-4: 0.500000\n",
            "cumulative 4-gram BLEU: 0.614788\n"
          ]
        }
      ]
    }
  ]
}